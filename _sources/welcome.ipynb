{
 "cells": [
  {
   "cell_type": "markdown",
   "metadata": {
    "slideshow": {
     "slide_type": "slide"
    }
   },
   "source": [
    "# Welcome\n",
    "\n",
    "\n",
    "```{figure} _static/USydney-logo.jpg\n",
    "---\n",
    "figclass: margin\n",
    "name: margin_figure\n",
    "---\n",
    "```\n",
    "\n",
    "\n",
    ":::{admonition} Unit content\n",
    ":class: note\n",
    "\n",
    "For this component of the unit, we will use:\n",
    "\n",
    "1. a *learning website* where you will find information relative to the lectures themselves: it contains some **notes**, **videos** and **exercises** for each week,\n",
    "2. a *web-based programming platform* based on **Jupyter Notebook** that contains the materials for the **exercises** and **practicals**.\n",
    "\n",
    ":::\n",
    "\n",
    "\n",
    "> This part of the course focuses on coastal systems analysis using both **ocean data** from a variety of sources (hindcast and forecast data, satellite observations, radar, moored buoys) & **numerical models** of shoreline changes, wave dynamics and coral reef evolution.\n",
    "\n",
    ":::{admonition} The emphasise will be on:\n",
    ":class: attention"
   ]
  },
  {
   "cell_type": "code",
   "execution_count": null,
   "metadata": {},
   "outputs": [],
   "source": []
  },
  {
   "cell_type": "code",
   "execution_count": null,
   "metadata": {},
   "outputs": [],
   "source": []
  }
 ],
 "metadata": {
  "celltoolbar": "Tags",
  "hide_input": false,
  "kernelspec": {
   "display_name": "Python 3",
   "language": "python",
   "name": "python3"
  },
  "language_info": {
   "codemirror_mode": {
    "name": "ipython",
    "version": 3
   },
   "file_extension": ".py",
   "mimetype": "text/x-python",
   "name": "python",
   "nbconvert_exporter": "python",
   "pygments_lexer": "ipython3",
   "version": "3.8.8"
  },
  "latex_envs": {
   "LaTeX_envs_menu_present": true,
   "autoclose": false,
   "autocomplete": true,
   "bibliofile": "biblio.bib",
   "cite_by": "apalike",
   "current_citInitial": 1,
   "eqLabelWithNumbers": true,
   "eqNumInitial": 1,
   "hotkeys": {
    "equation": "Ctrl-E",
    "itemize": "Ctrl-I"
   },
   "labels_anchors": false,
   "latex_user_defs": false,
   "report_style_numbering": false,
   "user_envs_cfg": false
  },
  "nbTranslate": {
   "displayLangs": [
    "*"
   ],
   "hotkey": "alt-t",
   "langInMainMenu": true,
   "sourceLang": "en",
   "targetLang": "fr",
   "useGoogleTranslate": true
  },
  "toc": {
   "base_numbering": 1,
   "nav_menu": {},
   "number_sections": false,
   "sideBar": true,
   "skip_h1_title": false,
   "title_cell": "Table of Contents",
   "title_sidebar": "Contents",
   "toc_cell": false,
   "toc_position": {},
   "toc_section_display": "block",
   "toc_window_display": true
  }
 },
 "nbformat": 4,
 "nbformat_minor": 4
}
