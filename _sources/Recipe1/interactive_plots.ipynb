{
 "cells": [
  {
   "cell_type": "markdown",
   "id": "small-isolation",
   "metadata": {},
   "source": [
    "# Interactive application\n",
    "\n",
    ":::{note}\n",
    "In this notebook, we explore some interactive plotting of `gospl` outputs that might be useful for sharing the results within a jupyter environment.\n",
    ":::\n",
    "\n",
    "We will create a `Dashboard` with two `HoloViews` objects: \n",
    "1. a `panel` `pn.widgets.Select` object that contains a list of `Xarray` variables, and \n",
    "2. a `hvPlot` object that takes the selected variable on input.\n",
    "\n",
    "\n",
    ":::{figure-md} fig-target4-1\n",
    ":class: myclass\n",
    "\n",
    "<img src=\"./images/hvplot.jpeg\" alt=\"hvplot\" width=\"700px\">\n",
    "\n",
    "Python tools for data visualization [PyViz](https://pyviz.org).\n",
    ":::\n",
    "\n",
    ":::{seealso}\n",
    "An in-depth description of the approach quickly presented here is well discussed in a recent paper by Signell & Pothina (2019)[^1].\n",
    ":::\n",
    "\n",
    "[^1]: Signell & Pothina: [Analysis and Visualization of Coastal Ocean Model Data in the Cloud](https://www.mdpi.com/2077-1312/7/4/110/htm), 2019.\n",
    "\n",
    "\n",
    "## Load the required Python libraries\n",
    "\n",
    "First of all, load the necessary libraries. These are the ones we discussed previously:\n",
    "\n",
    "+ numpy\n",
    "+ matplotlib\n",
    "+ cartopy\n",
    "+ panel\n",
    "+ xarray\n",
    "+ holoviews\n",
    "+ geoviews"
   ]
  },
  {
   "cell_type": "code",
   "execution_count": null,
   "id": "funky-scanning",
   "metadata": {},
   "outputs": [],
   "source": [
    "import os\n",
    "import numpy as np\n",
    "import xarray as xr\n",
    "\n",
    "import cartopy\n",
    "import cartopy.crs as ccrs\n",
    "import cartopy.feature as cfeature\n",
    "from cartopy.mpl.gridliner import LONGITUDE_FORMATTER, LATITUDE_FORMATTER\n",
    "cartopy.config['data_dir'] = os.getenv('CARTOPY_DIR', cartopy.config.get('data_dir'))\n",
    "\n",
    "import cmocean\n",
    "\n",
    "import hvplot.xarray\n",
    "import panel as pn\n",
    "\n",
    "import holoviews as hv\n",
    "from holoviews import opts, dim\n",
    "\n",
    "import geoviews as gv\n",
    "import geoviews.feature as gf\n",
    "from cartopy import crs\n",
    "\n",
    "import geoviews as gv\n",
    "from geoviews import tile_sources as gvts\n",
    "import geoviews.feature as gf\n",
    "from cartopy import crs as ccrs\n",
    "import pandas as pd\n",
    "\n",
    "from script import readOutput as rout\n",
    "\n",
    "gv.extension('bokeh')\n",
    "\n",
    "import warnings\n",
    "warnings.filterwarnings(\"ignore\", category=RuntimeWarning) "
   ]
  },
  {
   "cell_type": "markdown",
   "id": "residential-cotton",
   "metadata": {},
   "source": [
    "We first define a folder where exported files will be stored:"
   ]
  },
  {
   "cell_type": "code",
   "execution_count": null,
   "id": "mature-converter",
   "metadata": {},
   "outputs": [],
   "source": [
    "out_path = 'export'\n",
    "if not os.path.exists(out_path):\n",
    "    os.makedirs(out_path)"
   ]
  },
  {
   "cell_type": "markdown",
   "id": "twenty-geology",
   "metadata": {},
   "source": [
    "## Netcdf outputs\n",
    "\n",
    "We start with the `netcdf` outputs as it is the most common one used in our field.\n",
    "\n",
    "### Building netcdf file\n",
    "\n",
    "`Netcdf` exports are done by using the `readOutput.py` script presented in the previous notebook. Here we export all the time steps at once by looping through the number of outputs (5 in this case).\n",
    "\n",
    ":::{admonition} Arguments for `readOutput.py`\n",
    ":class: note, dropdown\n",
    "\n",
    "The `readOutput.py` script main function requires several arguments:\n",
    "\n",
    "+ `path`: the path to the input file\n",
    "+ `filename`: the name of the input file\n",
    "+ `step`: the step you wish to output (here set to 5 corresponding to the last output based on the input parameters: start time 0 year, end time 50 thousand years with an output every 10 thousand years)\n",
    "+ `nbstep`: the number of time steps to plot (useful if one want to output a `netdcf` file containing all time steps (done in the following section).\n",
    "+ `uplift_forcing`: set to False as we are not considering any tectonic forcing\n",
    "\n",
    "\n",
    ":::\n",
    "\n",
    "Then the `buildLonLatMesh` function is used to interpolate (using a `kd-tree` approach) the `gospl` variables on a regular mesh. It also provides a way to limit the created `netcdf` file by defining a `bounding box`:"
   ]
  },
  {
   "cell_type": "code",
   "execution_count": null,
   "id": "still-knowing",
   "metadata": {},
   "outputs": [],
   "source": [
    "uplift_forcing = False\n",
    "\n",
    "# Specifying the grid resolution in degrees\n",
    "reso = 0.1\n",
    "\n",
    "# Total number of outputs\n",
    "nbstep = 5\n",
    "\n",
    "# Bounding box\n",
    "bb = [-134,20,-46,80]\n",
    "\n",
    "# Looping through the output time steps\n",
    "for k in range(nbstep+1):\n",
    "    if k == 0:\n",
    "        # Calling the initialisation function for our class \n",
    "        ncgrid = rout.readOutput(path='./', filename='input.yml', \n",
    "                                 step=k, nbstep=nbstep+1, \n",
    "                                 uplift=uplift_forcing)\n",
    "    else:\n",
    "        # Update the variables after the first time steps\n",
    "        ncgrid.update(step=k, uplift=uplift_forcing)\n",
    "    \n",
    "    # Build the regular grid defining the bounding box\n",
    "    ncgrid.buildLonLatMesh(res=reso, nghb=3, box=bb)\n",
    "    \n",
    "# Exporting the netcdf file on the desired bounding box:\n",
    "ncout = os.path.join(out_path, \"GoMresult.nc\")\n",
    "ncgrid.exportNetCDF(ncfile=ncout)"
   ]
  },
  {
   "cell_type": "markdown",
   "id": "expanded-danish",
   "metadata": {},
   "source": [
    "Open the `netcdf` file with `xarray` file:"
   ]
  },
  {
   "cell_type": "code",
   "execution_count": null,
   "id": "ordinary-commerce",
   "metadata": {},
   "outputs": [],
   "source": [
    "ds = xr.open_dataset(ncout, decode_times=False)\n",
    "ds"
   ]
  },
  {
   "cell_type": "markdown",
   "id": "white-joyce",
   "metadata": {},
   "source": [
    "## Plotting a specific variable\n",
    "\n",
    "We will plot the basin index for a specific region. \n",
    "\n",
    "Let's start by clipping the area to reduce the Dataset size. We will clip the spatial extent based on longitudinal and latitudinal values.\n",
    "\n",
    "This is done using the `sel` function with the `slice` method."
   ]
  },
  {
   "cell_type": "code",
   "execution_count": null,
   "id": "lesser-burner",
   "metadata": {},
   "outputs": [],
   "source": [
    "min_lon = -130     # lower left longitude\n",
    "min_lat = 21     # lower left latitude\n",
    "max_lon = -55     # upper right longitude\n",
    "max_lat = 70     # upper right latitude\n",
    "\n",
    "# Defining the boundaries\n",
    "lon_bnds = [min_lon, max_lon]\n",
    "lat_bnds = [min_lat, max_lat]\n",
    "\n",
    "# Time interval\n",
    "tsteps = [1.e04, 5.e04]\n",
    "\n",
    "# Performing the reduction \n",
    "ds_clip = ds.sel(latitude=slice(*lat_bnds), longitude=slice(*lon_bnds), time=slice(*tsteps))\n",
    "ds_clip"
   ]
  },
  {
   "cell_type": "markdown",
   "id": "atmospheric-dominant",
   "metadata": {},
   "source": [
    "Using `GeoViews` we visualise the basin index over time:"
   ]
  },
  {
   "cell_type": "code",
   "execution_count": null,
   "id": "supreme-nerve",
   "metadata": {},
   "outputs": [],
   "source": [
    "# Specify the dataset, its coordinates and requested variable \n",
    "dataset = gv.Dataset(ds_clip, ['longitude', 'latitude', 'time'], \n",
    "                     'basinID', crs=crs.PlateCarree())\n",
    "\n",
    "images = dataset.to(gv.Image,dynamic=True)\n",
    "\n",
    "# Loading coastlines from Cartopy\n",
    "coastline = gf.coastline(line_width=1,line_color='k').opts(projection=ccrs.PlateCarree(),\n",
    "                                                           scale='10m')"
   ]
  },
  {
   "cell_type": "code",
   "execution_count": null,
   "id": "molecular-quarter",
   "metadata": {},
   "outputs": [],
   "source": [
    "# Slider location\n",
    "hv.output(widget_location='bottom')\n",
    "\n",
    "# Create stack of images grouped by time\n",
    "images.opts(active_tools=['wheel_zoom', 'pan'], cmap='jet',\n",
    "            colorbar=True, width=800, height=500, \n",
    "            ) * coastline"
   ]
  },
  {
   "cell_type": "markdown",
   "id": "smaller-terminology",
   "metadata": {},
   "source": [
    "## A better dashboard\n",
    "\n",
    "We will use the `quadmesh` function to quickly rasterize the output to the requested width and height and to create a simple dashboard for interactive, dynamic visualization of `gospl` data.\n",
    "\n",
    ":::{note}\n",
    "Using the controls on the right, the user can select the pan and wheel_zoom, which enables dynamic exploration of the desired variable.\n",
    ":::\n",
    "\n",
    "\n",
    ":::{tip}\n",
    "By selecting the hover control it allows data values to be displayed along with their coordinates.\n",
    ":::"
   ]
  },
  {
   "cell_type": "code",
   "execution_count": null,
   "id": "medical-crack",
   "metadata": {},
   "outputs": [],
   "source": [
    "var = 'erodep'\n",
    "base_map = gvts.EsriImagery  # ESRI satellite image as background\n",
    "\n",
    "# Get title from dataset variables attributes\n",
    "label = f'{var}: {ds_clip[var].units}'\n",
    "\n",
    "# Build the quadmesh\n",
    "mesh = ds_clip[var][:,:].hvplot.quadmesh(x='longitude',y='latitude',\n",
    "                                        crs=ccrs.PlateCarree(), cmap='bwr',\n",
    "                                        rasterize=True, groupby=list(ds_clip[var].dims[:2:3]),\n",
    "                                        title=label, \n",
    "                                        width=500,height=500)\n",
    "\n",
    "overlay = (base_map*mesh.opts(alpha=0.75)).opts(active_tools=['wheel_zoom', 'pan'])\n",
    "\n",
    "# Define the slider as panel widgets\n",
    "widgets = {dim: pn.widgets.Select for dim in ds_clip[var].dims[:2:3]}\n",
    "\n",
    "# Combine everything in a dashboard\n",
    "dashboard = pn.pane.HoloViews(overlay, widgets=widgets).layout\n",
    "\n",
    "dashboard"
   ]
  },
  {
   "cell_type": "markdown",
   "id": "tutorial-poker",
   "metadata": {},
   "source": [
    "## Adding Dashboard functionalities\n",
    "\n",
    "At this point we have built interactive apps and dashboards with `Panel`, to quickly build visualizations with `hvPlot`, and add custom interactivity by using `HoloViews`.\n",
    "\n",
    "We will now work on putting all of this together to build a more complex, and efficient data processing pipelines, controlled by `Panel` widgets.\n",
    "\n",
    "### Defining panel widgets"
   ]
  },
  {
   "cell_type": "code",
   "execution_count": null,
   "id": "lesbian-ivory",
   "metadata": {},
   "outputs": [],
   "source": [
    "# Define the existing variables in the xArray Dataset\n",
    "rho_vars = []\n",
    "for var in ds_clip.data_vars:\n",
    "    if len(ds_clip[var].dims) > 0:\n",
    "        rho_vars.append(var)\n",
    "        \n",
    "\n",
    "# Define the panel widget for the Xarray variables\n",
    "var_select = pn.widgets.Select(name='Select variables:', options=rho_vars, \n",
    "                               value='elevation')\n",
    "\n",
    "# Define the panel widget for the background maps\n",
    "base_map_select = pn.widgets.Select(name='Choose underlying map:', \n",
    "                                    options=gvts.tile_sources, \n",
    "                                    value=gvts.EsriImagery)\n",
    "\n",
    "# Define the panel widget for the different colormap\n",
    "color_select = pn.widgets.Select(name='Pick a colormap', options= sorted([\n",
    "    'cet_bgy', 'cet_bkr', 'cet_bgyw', 'cet_bky', 'cet_kbc', 'cet_coolwarm', \n",
    "    'cet_blues', 'cet_gwv', 'cet_bmw', 'cet_bjy', 'cet_bmy', 'cet_bwy', 'cet_kgy', \n",
    "    'cet_cwr', 'cet_gray', 'cet_dimgray', 'cet_fire', 'kb', 'cet_kg', 'cet_kr',\n",
    "    'cet_colorwheel', 'cet_isolium', 'cet_rainbow', 'cet_bgy_r', 'cet_bkr_r', \n",
    "    'cet_bgyw_r', 'cet_bky_r', 'cet_kbc_r', 'cet_coolwarm_r', 'cet_blues_r', \n",
    "    'cet_gwv_r', 'cet_bmw_r', 'cet_bjy_r', 'cet_bmy_r', 'cet_bwy_r', 'cet_kgy_r', \n",
    "    'cet_cwr_r', 'cet_gray_r', 'cet_dimgray_r', 'cet_fire_r', 'kb_r', 'cet_kg_r', \n",
    "    'cet_kr_r', 'cet_colorwheel_r', 'cet_isolium_r', 'cet_rainbow_r', 'jet'], \n",
    "    key=str.casefold), value='jet') "
   ]
  },
  {
   "cell_type": "markdown",
   "id": "described-exchange",
   "metadata": {},
   "source": [
    "### Defining the plotting functions\n",
    "\n",
    "This function is the same as the one we defined for the simple dashboard above but it allows for the different variables defined in the panel widgets to be interactively chosen…"
   ]
  },
  {
   "cell_type": "code",
   "execution_count": null,
   "id": "following-oklahoma",
   "metadata": {},
   "outputs": [],
   "source": [
    "def plot(var=None, base_map=None, cmap='jet'):\n",
    "    \n",
    "    base_map = base_map or base_map_select.value\n",
    "    var = var or var_select.value\n",
    "    \n",
    "    label = f'{ds_clip[var].name}: {ds_clip[var].units}'\n",
    "    \n",
    "    mesh = ds_clip[var].hvplot.quadmesh(x='longitude', y='latitude', rasterize=True, title=label,\n",
    "                                    width=500, height=500, crs=ccrs.PlateCarree(),\n",
    "                                    #groupby=list(ds[var].dims[:-2]), \n",
    "                                    cmap=cmap)\n",
    "    \n",
    "    mesh = mesh.redim.default(**{d: ds_clip[d].values.max() for d in ds_clip[var].dims[:-2]})\n",
    "    overlay = (base_map * mesh.opts(alpha=0.5)).opts(active_tools=['wheel_zoom', 'pan'])\n",
    "    widgets = {dim: pn.widgets.Select for dim in ds_clip[var].dims[:-2]}\n",
    "    \n",
    "    return pn.pane.HoloViews(overlay).layout #, widgets=widgets).layout"
   ]
  },
  {
   "cell_type": "markdown",
   "id": "remarkable-rendering",
   "metadata": {},
   "source": [
    "Widgets value selection functions:"
   ]
  },
  {
   "cell_type": "code",
   "execution_count": null,
   "id": "orange-stress",
   "metadata": {},
   "outputs": [],
   "source": [
    "def on_var_select(event):\n",
    "    var = event.obj.value\n",
    "    dashboard[-1] = plot(var=var)\n",
    "    \n",
    "def on_base_map_select(event):\n",
    "    base_map = event.obj.value\n",
    "    dashboard[-1] = plot(base_map=base_map)\n",
    "    \n",
    "def on_color_select(event):\n",
    "    cmap = event.obj.value\n",
    "    dashboard[-1] = plot(cmap=cmap)\n",
    "    \n",
    "var_select.param.watch(on_var_select, parameter_names=['value']);\n",
    "base_map_select.param.watch(on_base_map_select, parameter_names=['value']);\n",
    "color_select.param.watch(on_color_select, parameter_names=['value']);"
   ]
  },
  {
   "cell_type": "markdown",
   "id": "special-saver",
   "metadata": {},
   "source": [
    "### Advanced dashboard"
   ]
  },
  {
   "cell_type": "code",
   "execution_count": null,
   "id": "ready-learning",
   "metadata": {},
   "outputs": [],
   "source": [
    "widget = pn.widgets.StaticText(name='', value='Interactive visualisation of gospl outputs', \n",
    "                               style={'font-size': \"14px\", 'font-style': \"bold\"})\n",
    "\n",
    "selection_widget = pn.Row(var_select, color_select, base_map_select)\n",
    "\n",
    "dashboard = pn.Column(widget, selection_widget, plot(var_select.value))\n",
    "box = pn.WidgetBox('# gospl App', dashboard)"
   ]
  },
  {
   "cell_type": "code",
   "execution_count": null,
   "id": "forty-mounting",
   "metadata": {},
   "outputs": [],
   "source": [
    "box.servable()"
   ]
  },
  {
   "cell_type": "markdown",
   "id": "banner-lecture",
   "metadata": {},
   "source": [
    "## Box stream\n",
    "\n",
    "We will use the `BoxDraw` stream to draw region of interests (*e.g.* ROIs) over the erosion/deposition data, and use them to compute and display timeseries of the cumulative erosion/deposition in the regions of interests.\n",
    "\n",
    ":::{note}\n",
    "First, we will change the latitude and longitude to integer as the `Box stream` does not seem to accept floating values (or at least I didn't find the trick yet).\n",
    ":::"
   ]
  },
  {
   "cell_type": "code",
   "execution_count": null,
   "id": "tired-cleanup",
   "metadata": {},
   "outputs": [],
   "source": [
    "# Slider location\n",
    "var = 'erodep'\n",
    "\n",
    "coords={'time': np.array([1514764800000000000+86400000000000*i \n",
    "                          for i in range(ds_clip[var].shape[0])]).astype('datetime64[ns]'),\n",
    "        'y': np.arange(ds_clip[var].shape[1]), \n",
    "        'x': np.arange(ds_clip[var].shape[2]),\n",
    "        }\n",
    "\n",
    "viewdata = xr.DataArray(ds_clip[var].values, coords=coords, dims=['time', 'y', 'x'], name='erodep')"
   ]
  },
  {
   "cell_type": "markdown",
   "id": "finished-token",
   "metadata": {},
   "source": [
    "The following is from the HoloViews [example](https://holoviews.org/gallery/demos/bokeh/box_draw_roi_editor.html#demos-bokeh-gallery-box-draw-roi-editor) and define the ROIs functionality:"
   ]
  },
  {
   "cell_type": "code",
   "execution_count": null,
   "id": "stainless-tsunami",
   "metadata": {},
   "outputs": [],
   "source": [
    "titleName = 'Cumulative erosion/deposition (m)'\n",
    "hv_ds = hv.Dataset(viewdata)\n",
    "\n",
    "# Create stack of images grouped by time\n",
    "im = hv_ds.to(hv.Image, ['x','y'], dynamic=True).opts(active_tools=['wheel_zoom', 'pan'], \n",
    "                                                      cmap=cmocean.cm.balance,\n",
    "                     colorbar=True, width=450, height=400, clim=(-500,500))\n",
    "\n",
    "polys = hv.Polygons([])\n",
    "\n",
    "box_stream = hv.streams.BoxEdit(source=polys)\n",
    "\n",
    "# Declare an empty DataFrame to declare the types\n",
    "empty = pd.DataFrame({'time': np.array([], dtype='datetime64[ns]'), 'erodep': []})\n",
    "\n",
    "def roi_curves(data):\n",
    "    if not data or not any(len(d) for d in data.values()):\n",
    "        return hv.NdOverlay({0: hv.Curve(empty, 'time', 'erodep')})\n",
    "\n",
    "    curves = {}\n",
    "    data = zip(data['x0'], data['x1'], data['y0'], data['y1'])\n",
    "    for i, (x0, x1, y0, y1) in enumerate(data):\n",
    "        selection = hv_ds.select(x=(x0, x1), y=(y0, y1))\n",
    "        curves[i] = hv.Curve(selection.aggregate('time', np.mean))\n",
    "    return hv.NdOverlay(curves)\n",
    "\n",
    "# Generate VLines by getting time value from the image frames\n",
    "def vline(frame):\n",
    "    return hv.VLine(frame.data.time.values)\n",
    "vlines = im.apply(vline)\n",
    "\n",
    "dmap = hv.DynamicMap(roi_curves, streams=[box_stream])"
   ]
  },
  {
   "cell_type": "markdown",
   "id": "surprising-phenomenon",
   "metadata": {},
   "source": [
    ":::{tip}\n",
    "            \n",
    "To define an ROI, select the `Box edit` tool and double click to start defining the ROI and double click to finish placing the ROI:\n",
    "\n",
    ":::"
   ]
  },
  {
   "cell_type": "code",
   "execution_count": null,
   "id": "strategic-publicity",
   "metadata": {},
   "outputs": [],
   "source": [
    "(im * polys  + dmap * vlines ).opts(\n",
    "    opts.Curve(width=400, framewise=True), \n",
    "    opts.Polygons(fill_alpha=0.2, line_color='white'), \n",
    "    opts.VLine(color='black'))"
   ]
  },
  {
   "cell_type": "code",
   "execution_count": null,
   "id": "proud-benjamin",
   "metadata": {},
   "outputs": [],
   "source": []
  }
 ],
 "metadata": {
  "kernelspec": {
   "display_name": "Python 3",
   "language": "python",
   "name": "python3"
  },
  "language_info": {
   "codemirror_mode": {
    "name": "ipython",
    "version": 3
   },
   "file_extension": ".py",
   "mimetype": "text/x-python",
   "name": "python",
   "nbconvert_exporter": "python",
   "pygments_lexer": "ipython3",
   "version": "3.8.8"
  },
  "widgets": {
   "application/vnd.jupyter.widget-state+json": {
    "state": {},
    "version_major": 2,
    "version_minor": 0
   }
  }
 },
 "nbformat": 4,
 "nbformat_minor": 5
}
