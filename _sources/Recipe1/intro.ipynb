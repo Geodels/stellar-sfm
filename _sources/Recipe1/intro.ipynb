{
 "cells": [
  {
   "cell_type": "markdown",
   "id": "latin-subscriber",
   "metadata": {},
   "source": [
    "# Overview \n",
    "\n",
    "\n",
    "```{admonition} Introduction\n",
    "\n",
    "This first recipe covers essential features of `gospl` in the form of interactive Jupyter notebooks and Python scripts. Over the course of this recipe, you will learn:\n",
    "\n",
    "+ data structure used in `gospl` input file,\n",
    "+ how to generate simple initial conditions like topography, tectonic and precipitation to force a simulation,\n",
    "+ how to extract some of the outputs from the model to visualise them in Jupyter notebooks using multiple approaches/libraries,\n",
    "+ how to export `gospl` outputs (hdf5) in other common formats such as netcdf, geotiff, ZMap, and\n",
    "+ how to extract information relative to drainge basins and rivers longitudinal profiles.\n",
    "\n",
    "\n",
    "```\n",
    "\n",
    "The simulation proposed here uses data freely available from the web and will run **without additional dataset**. The dataset are imported in the jupyter notebooks from the following `THREDDS` servers:\n",
    "\n",
    "1. Topography file from NOAA [ETOPO5](http://ferret.pmel.noaa.gov/pmel/thredds/dodsC/data/PMEL/etopo5.nc.html),\n",
    "2. Precipitation file from  the [CPC collection](https://psl.noaa.gov/thredds/dodsC/Datasets/cmap/enh/precip.mon.mean.nc.html).\n",
    "\n",
    "\n",
    "In this example, we show how to use the global model to run a simulation for a particular continental-scale region here the Gulf of Mexico. This is done by building an unstructured spherical mesh with high resolution (approx. 25 km) around North America and a coarse (>1000 km) elsewhere. \n",
    "\n",
    "\n",
    ":::{note}\n",
    "The recipe should take around 20/30 minutes to do on a single CPU (actually the simulation itself runs in less than 5 minutes but you will need time to understand how to build the input files and perform the provided post-processing analysis). Obviously, `gospl` can be ran at much higher resolution (<10 km) globally but will take much more time!\n",
    ":::\n",
    "\n",
    "The recipe is actually a coarser version of the following simulation which takes a bit longer to run but has been built using the exct same notebooks.\n",
    "\n",
    "\n",
    "```{image} ./images/example1.png\n",
    ":alt: recipe1\n",
    ":class: bg-primary mb-1\n",
    ":width: 650px\n",
    ":align: center\n",
    "```"
   ]
  },
  {
   "cell_type": "code",
   "execution_count": null,
   "id": "opponent-advocate",
   "metadata": {},
   "outputs": [],
   "source": []
  }
 ],
 "metadata": {
  "kernelspec": {
   "display_name": "Python 3",
   "language": "python",
   "name": "python3"
  },
  "language_info": {
   "codemirror_mode": {
    "name": "ipython",
    "version": 3
   },
   "file_extension": ".py",
   "mimetype": "text/x-python",
   "name": "python",
   "nbconvert_exporter": "python",
   "pygments_lexer": "ipython3",
   "version": "3.8.8"
  }
 },
 "nbformat": 4,
 "nbformat_minor": 5
}
