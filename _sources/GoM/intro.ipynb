{
 "cells": [
  {
   "cell_type": "markdown",
   "id": "cloudy-terrorism",
   "metadata": {},
   "source": [
    "# Gulf of Mexico model \n",
    "\n",
    "\n",
    "\n",
    "```{figure} ./images/example1.png\n",
    ":name: figure-example1\n",
    "\n",
    "Running `gospl` for the Gulf of Mexico with today forcing conditions (*i.e.* topography and precipitation).\n",
    "```"
   ]
  },
  {
   "cell_type": "code",
   "execution_count": null,
   "id": "parallel-history",
   "metadata": {},
   "outputs": [],
   "source": []
  }
 ],
 "metadata": {
  "kernelspec": {
   "display_name": "Python 3",
   "language": "python",
   "name": "python3"
  },
  "language_info": {
   "codemirror_mode": {
    "name": "ipython",
    "version": 3
   },
   "file_extension": ".py",
   "mimetype": "text/x-python",
   "name": "python",
   "nbconvert_exporter": "python",
   "pygments_lexer": "ipython3",
   "version": "3.8.8"
  }
 },
 "nbformat": 4,
 "nbformat_minor": 5
}
