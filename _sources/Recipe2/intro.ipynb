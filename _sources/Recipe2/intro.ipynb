{
 "cells": [
  {
   "cell_type": "markdown",
   "id": "latin-subscriber",
   "metadata": {},
   "source": [
    "# Overview \n",
    "\n",
    "\n",
    "```{admonition} Introduction\n",
    "\n",
    "This second recipe covers the multi-lithology and stratigraphic component of `gospl`. Specifically we will be looking at:\n",
    "\n",
    "+ the information required to set a multi-lithology model in `gospl`,\n",
    "+ how to define initial sedimentary layers with relevant information,\n",
    "+ how to extract the outputs from a specific simuation and interpolate the results on a structured grid (`vts`) \n",
    "+ how to analyse the simulated stratigraphic record and layer information (such as the percentage of each lithology or the porosity values at different depths).\n",
    "\n",
    "\n",
    "```\n",
    "\n",
    "As for the previous recipe, the simulation proposed here uses data freely available from the web and will run **without additional dataset**. The dataset are imported in the jupyter notebooks from the following `THREDDS` servers:\n",
    "\n",
    "1. Topography file from NOAA [ETOPO5](http://ferret.pmel.noaa.gov/pmel/thredds/dodsC/data/PMEL/etopo5.nc.html),\n",
    "2. Precipitation file from  the [CPC collection](https://psl.noaa.gov/thredds/dodsC/Datasets/cmap/enh/precip.mon.mean.nc.html).\n",
    "\n",
    "\n",
    "This example is built based on the Recipe1 model where we use the global model to run a simulation for a particular continental-scale region here the Gulf of Mexico. The mesh is approx. 25 km around North America and above 1000 km elsewhere. \n",
    "\n",
    "\n",
    "The recipe presents a coarser version of the following simulations which take longer to run.\n",
    "\n",
    "\n",
    "```{image} ./images/example2.png\n",
    ":alt: recipe1\n",
    ":class: bg-primary mb-2\n",
    ":width: 750px\n",
    ":align: center\n",
    "```"
   ]
  },
  {
   "cell_type": "code",
   "execution_count": null,
   "id": "opponent-advocate",
   "metadata": {},
   "outputs": [],
   "source": []
  }
 ],
 "metadata": {
  "kernelspec": {
   "display_name": "Python 3",
   "language": "python",
   "name": "python3"
  },
  "language_info": {
   "codemirror_mode": {
    "name": "ipython",
    "version": 3
   },
   "file_extension": ".py",
   "mimetype": "text/x-python",
   "name": "python",
   "nbconvert_exporter": "python",
   "pygments_lexer": "ipython3",
   "version": "3.8.8"
  }
 },
 "nbformat": 4,
 "nbformat_minor": 5
}
