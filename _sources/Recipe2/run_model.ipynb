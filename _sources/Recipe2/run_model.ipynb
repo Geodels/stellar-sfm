{
 "cells": [
  {
   "cell_type": "markdown",
   "id": "0ee4c916",
   "metadata": {},
   "source": [
    "# Landscape evolution\n",
    "\n",
    "\n",
    "Three input files are provided in the recipe folder.\n",
    "\n",
    "+ `inputStrat.yml`: records the stratigraphy but does not consider multiple lithologies\n",
    "+ `inputSedLay.yml`: records the stratigraphy for multiple lithologies and uses the first sedimentary layers file defined in the [Inputs definition](./build_input.ipynb) notebook (`sedlay25km.npz`)\n",
    "+ `inputStrat.yml`: records the stratigraphy for multiple lithologies and uses the second sedimentary layers file defined in the [Inputs definition](./build_input.ipynb) notebook (`surflay25km.npz`)\n",
    "\n",
    "\n",
    "\n",
    "## Run `gospl`\n",
    "\n",
    "Running `gospl` is done by calling the `runModel.py` script with the name of the input file (*below* `inputSedLay.yml`) as argument.\n",
    "\n",
    "The Python script takes the following arguments:\n",
    "\n",
    "+ -i XXXX.yml specifying the input file name (required)\n",
    "+ -l True/False for outputing PETSc log during runtime (default is set to False)\n",
    "+ -v True/False for verbosing option during runtime (default is set to False)\n",
    "\n",
    "You can open the `inputSedLay.yml` file to look at the parameters that are setup for this model. A complete list of the `gospl` input variables is available in the [user guide](https://gospl.readthedocs.io/en/latest/user_guide/inputfile.html) documentation.\n",
    "\n",
    ":::{caution}\n",
    "\n",
    "This function will take approximately 5 minutes to complete with one CPU…\n",
    "\n",
    ":::"
   ]
  },
  {
   "cell_type": "code",
   "execution_count": 14,
   "id": "7679880e",
   "metadata": {
    "tags": [
     "output_scroll"
    ]
   },
   "outputs": [
    {
     "name": "stdout",
     "output_type": "stream",
     "text": [
      "--- Initialisation Phase (2.99 seconds)\n",
      "+++ Output Simulation Time: 0.00 years\n",
      "--- Computational Step                       (272.53 seconds)\n",
      "+++ Output Simulation Time: 5000.00 years\n",
      "--- Computational Step                       (277.78 seconds)\n",
      "+++ Output Simulation Time: 10000.00 years\n",
      "--- Computational Step                       (325.41 seconds)\n",
      "+++ Output Simulation Time: 15000.00 years\n",
      "--- Computational Step                       (399.99 seconds)\n",
      "+++ Output Simulation Time: 20000.00 years\n",
      "--- Computational Step                       (518.25 seconds)\n",
      "+++ Output Simulation Time: 25000.00 years\n",
      "--- Computational Step                       (759.51 seconds)\n",
      "\n",
      "+++\n",
      "+++ Total run time (2556.56 seconds)\n",
      "+++\n"
     ]
    }
   ],
   "source": [
    "# On a single processor uncomment the following line...\n",
    "%run script/runModel.py -i inputSedLay.yml\n",
    "\n",
    "# In parallel...\n",
    "#!mpirun -np 5 python3 script/runModel.py -i input.yml"
   ]
  },
  {
   "cell_type": "markdown",
   "id": "69a974c6",
   "metadata": {},
   "source": [
    "## Visualisation in a notebook environment\n",
    "\n",
    "\n",
    "The preferred way for visualising the model output is via `Paraview` by loading the time series file called `gospl.xdmf` available in the output folder (here called `outGoM`).\n",
    "\n",
    "Amongst the temporal variables outputed by `gospl` for this specific simulation, you will find:\n",
    "\n",
    "+ surface elevation `elev`.\n",
    "+ cumulative erosion & deposition values `erodep`.\n",
    "+ flow accumulation `flowAcc`.\n",
    "+ river sediment load `sedLoad`.\n",
    "+ precipitation maps based on forcing conditions rain.\n",
    "\n",
    "\n",
    "### Loading libraries\n",
    "\n",
    "`gospl` outputs are `hdf5` files which are produced for each time steps and each partition (when run in parallel). \n",
    "\n",
    "Using the `readOutput.py` script, we will first read these files and build for each recorded time the corresponding `vtk` file.\n",
    "\n",
    "\n",
    "The function requires several arguments:\n",
    "\n",
    "+ `path`: the path to the input file\n",
    "+ `filename`: the name of the input file\n",
    "+ `step`: the step you wish to output (here set to 5 corresponding to the last output based on the input parameters: start time 0 year, end time 50 thousand years with an output every 10 thousand years)\n",
    "+ `nbstep`: the number of time steps to plot (useful if one want to output a `netdcf` file containing all time steps (done in the following section).\n",
    "+ `uplift_forcing`: set to False as we are not considering any tectonic forcing\n"
   ]
  },
  {
   "cell_type": "markdown",
   "id": "fc66bca9",
   "metadata": {},
   "source": [
    "Here we will build the last time step (*i.e.* `step` set to 5):"
   ]
  },
  {
   "cell_type": "code",
   "execution_count": 15,
   "id": "b34e98a8",
   "metadata": {},
   "outputs": [],
   "source": [
    "import os\n",
    "from script import readOutput as rout\n",
    "from script import stratal as strat\n",
    "\n",
    "step = 5\n",
    "uplift_forcing = False\n",
    "\n",
    "# Reading the final output generated by gospl\n",
    "vtkgrid = rout.readOutput(path='./', filename='inputSedLay.yml', \n",
    "                          step=step, nbstep=None, \n",
    "                          uplift=uplift_forcing)"
   ]
  },
  {
   "cell_type": "markdown",
   "id": "cdee5d1f",
   "metadata": {},
   "source": [
    "### Post-processing\n",
    "\n",
    "Now that the outputs from our simulation have been loaded on disk we will export them as a `vtk` grid using the `exportVTK` function. \n",
    "\n",
    "The function computes the level of filling requires to have a depression-less DEM (it can be seen as different lakes levels). It also labels each catchment basin.\n",
    "\n",
    "The created `vtk` file contains the following information:\n",
    "\n",
    "+ `elev`: elevation, \n",
    "+ `erodep`: cumulative erosion/deposition,\n",
    "+ `rain`: rainfall,\n",
    "+ `FA`: log of the flow accumulation,\n",
    "+ `SL`: sediment load,\n",
    "+ `fill`: filling for depression-less DEM, and\n",
    "+ `basin`: each drainage basin label."
   ]
  },
  {
   "cell_type": "code",
   "execution_count": 16,
   "id": "beb4d437",
   "metadata": {},
   "outputs": [
    {
     "name": "stdout",
     "output_type": "stream",
     "text": [
      "Writing VTK file export/GoMstrat5.vtk\n"
     ]
    }
   ],
   "source": [
    "# Exporting the final output as a VTK mesh\n",
    "out_path = 'export'\n",
    "if not os.path.exists(out_path):\n",
    "    os.makedirs(out_path)\n",
    "\n",
    "    \n",
    "vtkfile = os.path.join(out_path, 'GoMstrat'+str(step)+'.vtk')\n",
    "vtkgrid.exportVTK(vtkfile, globNgh=True)"
   ]
  },
  {
   "cell_type": "markdown",
   "id": "6b5ef8af",
   "metadata": {},
   "source": [
    "### Interactive plotting\n",
    "\n",
    "We can now visualise the `VTK` output in the notebook directly using the `pyvista` library.\n",
    "\n",
    "Using the top left widget you will be able to chose amongst the different outputed variables from `gospl`, define a colorscale and manually set the colorbar range for each of these variables."
   ]
  },
  {
   "cell_type": "code",
   "execution_count": 17,
   "id": "f6e44d03",
   "metadata": {},
   "outputs": [
    {
     "data": {
      "application/vnd.jupyter.widget-view+json": {
       "model_id": "b8f00e8c81e64f49990595e9617d3684",
       "version_major": 2,
       "version_minor": 0
      },
      "text/plain": [
       "Viewer(geometries=[{'vtkClass': 'vtkPolyData', 'points': {'vtkClass': 'vtkPoints', 'name': '_points', 'numberO…"
      ]
     },
     "metadata": {},
     "output_type": "display_data"
    },
    {
     "data": {
      "application/vnd.jupyter.widget-view+json": {
       "model_id": "b8f00e8c81e64f49990595e9617d3684",
       "version_major": 2,
       "version_minor": 0
      },
      "text/plain": [
       "Viewer(geometries=[{'vtkClass': 'vtkPolyData', 'points': {'vtkClass': 'vtkPoints', 'name': '_points', 'numberO…"
      ]
     },
     "metadata": {},
     "output_type": "display_data"
    }
   ],
   "source": [
    "import matplotlib\n",
    "import numpy as np\n",
    "import pyvista as pv\n",
    "\n",
    "import matplotlib\n",
    "from matplotlib import cm\n",
    "import matplotlib.pyplot as plt\n",
    "import matplotlib.colors as colors\n",
    "from mpl_toolkits.axes_grid1 import make_axes_locatable\n",
    "\n",
    "label_size = 7\n",
    "matplotlib.rcParams['xtick.labelsize'] = label_size\n",
    "matplotlib.rcParams['ytick.labelsize'] = label_size\n",
    "matplotlib.rc('font', size=6)\n",
    "\n",
    "%matplotlib inline\n",
    "%config InlineBackend.figure_format = 'svg'\n",
    "\n",
    "mesh = pv.read(vtkfile)\n",
    "elev = mesh.get_array(name='elev')\n",
    "\n",
    "earthRadius = 6.371e6\n",
    "scale = 20.\n",
    "factor = 1.+ (elev/earthRadius)*scale\n",
    "\n",
    "mesh.points[:, 0] *= factor\n",
    "mesh.points[:, 1] *= factor\n",
    "mesh.points[:, 2] *= factor\n",
    "\n",
    "contour = mesh.contour([0])\n",
    "\n",
    "plot = pv.PlotterITK()\n",
    "plot.add_mesh(mesh, scalars=\"elev\")\n",
    "plot.add_mesh(contour, color=\"black\", opacity=1.)\n",
    "plot.show()"
   ]
  },
  {
   "cell_type": "code",
   "execution_count": null,
   "id": "e63cd593",
   "metadata": {},
   "outputs": [],
   "source": []
  }
 ],
 "metadata": {
  "celltoolbar": "Tags",
  "kernelspec": {
   "display_name": "Python 3",
   "language": "python",
   "name": "python3"
  },
  "language_info": {
   "codemirror_mode": {
    "name": "ipython",
    "version": 3
   },
   "file_extension": ".py",
   "mimetype": "text/x-python",
   "name": "python",
   "nbconvert_exporter": "python",
   "pygments_lexer": "ipython3",
   "version": "3.8.8"
  },
  "widgets": {
   "application/vnd.jupyter.widget-state+json": {
    "state": {},
    "version_major": 2,
    "version_minor": 0
   }
  }
 },
 "nbformat": 4,
 "nbformat_minor": 5
}
