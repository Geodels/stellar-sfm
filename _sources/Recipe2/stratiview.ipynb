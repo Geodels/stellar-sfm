{
 "cells": [
  {
   "cell_type": "markdown",
   "id": "ab7162ee",
   "metadata": {},
   "source": [
    "# Extract stratigraphy\n",
    "\n",
    "We will now look at the recorded stratigraphy. The stratigraphic layer are recorded in `gospl` as `HDF5` files stored in the output folder as `stratal.XX.pX.h5` where XX is the output step and X the processor number.\n",
    "\n",
    ":::{admonition} Stratal record definition\n",
    ":class: note\n",
    "\n",
    "The following information are stored:\n",
    "\n",
    "+ elevation at time of deposition, considered to be to the current elevation for the top stratigraphic layer `stratZ`.\n",
    "+ thickness of each stratigrapic layer `stratH` accounting for both erosion & deposition events.\n",
    "+ proportion of fine sediment `stratF` contains in each stratigraphic layer.\n",
    "+ porosity of coarse sediment `phiS` in each stratigraphic layer computed at center of each layer.\n",
    "+ porosity of fine sediment `phiF` in each stratigraphic layer computed at center of each layer.\n",
    "\n",
    ":::"
   ]
  },
  {
   "cell_type": "code",
   "execution_count": null,
   "id": "a12ee0c4",
   "metadata": {},
   "outputs": [],
   "source": [
    "import numpy as np\n",
    "import pyvista as pv\n",
    "from script import stratal as strat\n",
    "\n",
    "import matplotlib\n",
    "from matplotlib import cm\n",
    "import matplotlib.pyplot as plt\n",
    "import matplotlib.colors as colors\n",
    "from mpl_toolkits.axes_grid1 import make_axes_locatable\n",
    "\n",
    "label_size = 7\n",
    "matplotlib.rcParams['xtick.labelsize'] = label_size\n",
    "matplotlib.rcParams['ytick.labelsize'] = label_size\n",
    "matplotlib.rc('font', size=6)\n",
    "\n",
    "%matplotlib inline\n",
    "%config InlineBackend.figure_format = 'svg'"
   ]
  },
  {
   "cell_type": "markdown",
   "id": "a7502294",
   "metadata": {},
   "source": [
    "We will use the `stratal.py` function to extract the information above. It requires the following arguments: \n",
    "\n",
    "1. path: the path to the input file \n",
    "2. filename: the name of the input file \n",
    "3. layer: the stratal file you wish to output"
   ]
  },
  {
   "cell_type": "code",
   "execution_count": null,
   "id": "d7f833d7",
   "metadata": {
    "tags": [
     "output_scroll"
    ]
   },
   "outputs": [],
   "source": [
    "# Load the function and specify the input file\n",
    "strati = strat.stratal(path='./', filename='inputSedLay.yml')\n",
    "\n",
    "# Read the stratigraphic dataset\n",
    "strati.readStratalData()\n",
    "\n",
    "# Interpolate the spherical dataset on a lon/lat regular grid\n",
    "# by specifying the desired resolution and interpolation neighbours\n",
    "strati.buildLonLatMesh(res=0.1, nghb=3)"
   ]
  },
  {
   "cell_type": "markdown",
   "id": "fd56df0f",
   "metadata": {},
   "source": [
    "We can visualise the created maps directly by doing…"
   ]
  },
  {
   "cell_type": "code",
   "execution_count": null,
   "id": "b740e449",
   "metadata": {},
   "outputs": [],
   "source": [
    "fig = plt.figure(figsize=(10,8))\n",
    "ax = fig.add_subplot(111)\n",
    "\n",
    "ax.imshow(np.flipud(strati.zi[-1,:,:]), extent=(-180, 180, -90, 90), vmin=-8000, vmax=8000, cmap=cm.bwr)\n",
    "ax.set(xlabel='Longitude', ylabel='Latitude', yticks=np.arange(-90,120,30), xticks=np.arange(-180,180,30))\n",
    "ax.minorticks_on()"
   ]
  },
  {
   "cell_type": "code",
   "execution_count": null,
   "id": "97e4a70e",
   "metadata": {},
   "outputs": [],
   "source": [
    "fig = plt.figure(figsize=(10,8))\n",
    "ax = fig.add_subplot(111)\n",
    "\n",
    "ax.imshow(np.flipud(strati.coarsei[-1,:,:]), extent=(-180, 180, -90, 90), vmin=0, vmax=1, cmap=cm.bwr)\n",
    "ax.set(xlabel='Longitude', ylabel='Latitude', yticks=np.arange(-90,120,30), xticks=np.arange(-180,180,30))\n",
    "ax.minorticks_on()"
   ]
  },
  {
   "cell_type": "markdown",
   "id": "70a7f175",
   "metadata": {},
   "source": [
    "We will now extract the stratigraphic layer for a specific region by using the `writeMesh`:\n",
    "\n",
    "\n",
    "\n",
    ":::{admonition} Function arguments\n",
    ":class: note\n",
    "\n",
    "+ `vtkfile` the output name of the `VTK` stratigraphic mesh to create\n",
    "+ `lats` latitude of the lower left and upper right corner of the region (specified between -90 and 90 degree)\n",
    "+ `lons` longitude of the lower left and upper right corner of the region (specified between -180 and 180 degree)\n",
    "+ `sigma` the standard deviation for Gaussian kernel as defined in SciPy `gaussian_filter` [function](https://docs.scipy.org/doc/scipy/reference/generated/scipy.ndimage.gaussian_filter.html).\n",
    "\n",
    ":::\n",
    "\n",
    "The function returns the domain length in meters along the X and Y borders.\n",
    "\n",
    "\n",
    "\n",
    "```{warning} \n",
    "This function may take several minutes to complete.\n",
    "```"
   ]
  },
  {
   "cell_type": "code",
   "execution_count": null,
   "id": "70c17943",
   "metadata": {},
   "outputs": [],
   "source": [
    "length = strati.writeMesh(vtkfile='sedlay',\n",
    "                          lats=[22,31],\n",
    "                          lons=[-100,-92],\n",
    "                          sigma=0.5)"
   ]
  },
  {
   "cell_type": "markdown",
   "id": "d5b18900",
   "metadata": {},
   "source": [
    "The function will build a `VTK` structured mesh containing the stratigraphic record for the region.\n",
    "\n",
    "Here we will set the slice at the center of the domain…\n",
    "\n",
    "We can visualise the stratigraphic layers in the notebook:"
   ]
  },
  {
   "cell_type": "code",
   "execution_count": null,
   "id": "02ab1bc0",
   "metadata": {},
   "outputs": [],
   "source": [
    "mesh = pv.read('sedlay.vts')\n",
    "mesh.set_active_scalars('layID')\n",
    "threshold = mesh.threshold([3,8])\n",
    "\n",
    "# Position cross-section at the center of the region\n",
    "slices = threshold.slice_orthogonal(x=length[0]/2, y=length[-1]/2, z=-10)\n",
    "\n",
    "scale_factor = 80\n",
    "slices[0].points[:, -1] *= scale_factor\n",
    "slices[1].points[:, -1] *= scale_factor\n",
    "\n",
    "contours0 = slices[0].contour(np.linspace(0, 7, 8))\n",
    "contours1 = slices[1].contour(np.linspace(0, 7, 8))\n",
    "\n",
    "p = pv.PlotterITK()\n",
    "p.add_mesh(slices[0], scalars=\"dep elev\")\n",
    "p.add_mesh(slices[1], scalars=\"dep elev\")\n",
    "p.add_mesh(contours0, color=\"black\", opacity=1.)\n",
    "p.add_mesh(contours1, color=\"black\", opacity=1.)\n",
    "\n",
    "p.show()"
   ]
  },
  {
   "cell_type": "code",
   "execution_count": null,
   "id": "8a6b72bd",
   "metadata": {},
   "outputs": [],
   "source": []
  }
 ],
 "metadata": {
  "celltoolbar": "Tags",
  "kernelspec": {
   "display_name": "Python 3",
   "language": "python",
   "name": "python3"
  },
  "language_info": {
   "codemirror_mode": {
    "name": "ipython",
    "version": 3
   },
   "file_extension": ".py",
   "mimetype": "text/x-python",
   "name": "python",
   "nbconvert_exporter": "python",
   "pygments_lexer": "ipython3",
   "version": "3.8.8"
  },
  "widgets": {
   "application/vnd.jupyter.widget-state+json": {
    "state": {},
    "version_major": 2,
    "version_minor": 0
   }
  }
 },
 "nbformat": 4,
 "nbformat_minor": 5
}
