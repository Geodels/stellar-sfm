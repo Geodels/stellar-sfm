{
 "cells": [
  {
   "cell_type": "markdown",
   "id": "bee42daf",
   "metadata": {},
   "source": [
    "# Inputs definition\n",
    "\n",
    "\n",
    "For this second recipe, we will use the same inputs as the ones defined for **Recipe 1**. \n",
    "\n",
    ":::{admonition} Inputs definition\n",
    ":class: note\n",
    "\n",
    "Used inputs are:\n",
    "\n",
    "+ an initial mesh with the Gulf of Mexico as the region of interest\n",
    "+ an elevation set to present-day toppography based on ETOPO5 dataset\n",
    "+ a rainfall grid extracted from CPC collection of precipitation data sets containing global monthly values since 1979\n",
    "+ a generic tectonic conditions (uplift/subsidence) where regions above 500 m are uplifted (0.1 cm/yr) and the ones below -10 m are subsiding (-0.1 cm/yr)\n",
    "\n",
    ":::\n",
    "\n",
    "```{tip}\n",
    "For building these forcings, you might want to go to the corresponding Jupyter notebook [here](https://geodels.github.io/stellar-sfm/Recipe1/build_input.html).\n",
    "```\n",
    "\n",
    "## Visualising inputs from Recipe 1"
   ]
  },
  {
   "cell_type": "code",
   "execution_count": 40,
   "id": "64ec7887",
   "metadata": {},
   "outputs": [
    {
     "data": {
      "application/vnd.jupyter.widget-view+json": {
       "model_id": "b1bf5d292c6a4ea68d4aa78b3d14cd08",
       "version_major": 2,
       "version_minor": 0
      },
      "text/plain": [
       "Viewer(geometries=[{'vtkClass': 'vtkPolyData', 'points': {'vtkClass': 'vtkPoints', 'name': '_points', 'numberO…"
      ]
     },
     "metadata": {},
     "output_type": "display_data"
    },
    {
     "data": {
      "application/vnd.jupyter.widget-view+json": {
       "model_id": "b1bf5d292c6a4ea68d4aa78b3d14cd08",
       "version_major": 2,
       "version_minor": 0
      },
      "text/plain": [
       "Viewer(geometries=[{'vtkClass': 'vtkPolyData', 'points': {'vtkClass': 'vtkPoints', 'name': '_points', 'numberO…"
      ]
     },
     "metadata": {},
     "output_type": "display_data"
    }
   ],
   "source": [
    "import meshio\n",
    "import numpy as np \n",
    "import pyvista as pv\n",
    "\n",
    "\n",
    "paleovtk = 'gospl_data/mesh25km.vtk'\n",
    "\n",
    "mesh = pv.read(paleovtk)\n",
    "elev = mesh.get_array(name='elev')\n",
    "\n",
    "earthRadius = 6.371e6\n",
    "scale = 10.\n",
    "factor = 1.+ (elev/earthRadius)*scale\n",
    "\n",
    "mesh.points[:, 0] *= factor\n",
    "mesh.points[:, 1] *= factor\n",
    "mesh.points[:, 2] *= factor\n",
    "\n",
    "contour = mesh.contour([0])\n",
    "\n",
    "plotter = pv.PlotterITK()\n",
    "plotter.add_mesh(mesh, scalars=\"elev\")\n",
    "plotter.add_mesh(contour, color=\"black\", opacity=1.)\n",
    "\n",
    "plotter.show()"
   ]
  },
  {
   "cell_type": "markdown",
   "id": "112d2819",
   "metadata": {},
   "source": [
    "## Building sedimentary layers\n",
    "\n",
    "\n",
    "### Multi-lithologies stratigraphy\n",
    "\n",
    "We will first create an inital stratigraphic architecture consisting of 3 layers. \n",
    "\n",
    "It is possible to build a complex layering with variable thicknesses and proportions for each layer. Here, for the sake of simplicity, we will only define layers which have constant spatial characteristics. \n",
    "\n",
    "Stratigraphic layers in `gospl` are defined on the unstructured mesh, so first we load this mesh..."
   ]
  },
  {
   "cell_type": "code",
   "execution_count": 20,
   "id": "e336af0a",
   "metadata": {},
   "outputs": [],
   "source": [
    "# Loading gospl mesh\n",
    "loadMesh = np.load('gospl_data/mesh25km.npz')\n",
    "gCoords = loadMesh[\"v\"]\n",
    "gZ = loadMesh[\"z\"]"
   ]
  },
  {
   "cell_type": "markdown",
   "id": "f7fbed4d",
   "metadata": {},
   "source": [
    "Each layer corresponds to a specific time interval and is characterised by a number of parameters:\n",
    "    \n",
    "+ layer thickness (meters)\n",
    "+ percentage of fine sediment \n",
    "+ percentatage of weathered sediment\n",
    "+ elevation at the time of deposition\n",
    "+ averaged porosity for coarse sediment\n",
    "+ averaged porosity for fine sediment\n",
    "+ averaged porosity for weathered sediment\n",
    "\n",
    "Let's define each of these variables:"
   ]
  },
  {
   "cell_type": "code",
   "execution_count": null,
   "id": "3e54cca6",
   "metadata": {},
   "outputs": [],
   "source": [
    "# Define layers variables\n",
    "H = np.zeros((len(gZ),3)) # thickness\n",
    "Z = H.copy()              # elevation\n",
    "Fperc = H.copy()          # fine fraction\n",
    "Wperc = H.copy()          # weathered fraction\n",
    "Fphi = H.copy()           # fine porosity\n",
    "Sphi = H.copy()           # coarse porosity\n",
    "Wphi = H.copy()           # weathered porosity"
   ]
  },
  {
   "cell_type": "markdown",
   "id": "baff8e4a",
   "metadata": {},
   "source": [
    "Now we will set the initial thicknesses and compositions of the layers assuming uniform parameters: "
   ]
  },
  {
   "cell_type": "code",
   "execution_count": null,
   "id": "5c37e0cb",
   "metadata": {},
   "outputs": [],
   "source": [
    "H[:,0] = 1.0              # 1 m thick\n",
    "H[:,1] = 5.0e3            # 10 km thick\n",
    "H[:,2] = 10.0e3           # 10 km thick\n",
    "\n",
    "Fperc[:,0] = 0.4          # 40% of fines\n",
    "Fperc[:,1] = 0.4          # 40% of fines\n",
    "Fperc[:,2] = 0.4          # 40% of fines\n",
    "\n",
    "Wperc[:,0] = 0.2          # 20% of fines\n",
    "Wperc[:,1] = 0.2          # 20% of fines\n",
    "Wperc[:,2] = 0.2          # 20% of fines\n",
    "\n",
    "Z[:,0] = gZ - 15000.5     # elevation at the centre of layer 0\n",
    "Z[:,1] = gZ - 12500.0     # elevation at the centre of layer 1\n",
    "Z[:,2] = gZ - 5000.0      # elevation at the centre of layer 2 "
   ]
  },
  {
   "cell_type": "markdown",
   "id": "0c821acc",
   "metadata": {},
   "source": [
    "To estimate the porosities we will assume that compaction is dependent on deposition rate and sediment surface porosity following the formulation proposed `gospl` and explains in more details [here](https://gospl.readthedocs.io/en/latest/tech_guide/strat.html#porosity-and-compaction).\n",
    "\n",
    "As such, we first define: \n",
    "\n",
    "- surface porosity of sediments,\n",
    "- the e-folding sediment thickness for porosity reduction."
   ]
  },
  {
   "cell_type": "code",
   "execution_count": null,
   "id": "1b4cd410",
   "metadata": {},
   "outputs": [],
   "source": [
    "phis = 0.49               # Coarse sediment surface porosity\n",
    "phif = 0.63               # Fine sediment surface porosity\n",
    "phiw = 0.65               # Weathered sediment surface porosity\n",
    "\n",
    "z0s = 3700.0              # e-folding coarse sediment thickness for porosity reduction 3700 m\n",
    "z0f = 1960.0              # e-folding fine sediment thickness for porosity reduction 1960 m\n",
    "z0w = 1600.0              # e-folding weathered sediment thickness for porosity reduction 1960 m"
   ]
  },
  {
   "cell_type": "markdown",
   "id": "1f576973",
   "metadata": {},
   "source": [
    "Using [Sclater and Christie, 1980](https://agupubs.onlinelibrary.wiley.com/doi/10.1029/JB085iB07p03711) based on many sedimentary basins observations we then get:"
   ]
  },
  {
   "cell_type": "code",
   "execution_count": null,
   "id": "22b2db83",
   "metadata": {},
   "outputs": [],
   "source": [
    "# Weathered sediment porosity for each layer\n",
    "Wphi0 = phiw * np.exp(-15000.5/z0w)\n",
    "Wphi1 = phiw * np.exp(-12500./z0w)\n",
    "Wphi2 = phiw * np.exp(-5000./z0w)\n",
    "Wphi[:,0] = Wphi0\n",
    "Wphi[:,1] = Wphi1\n",
    "Wphi[:,2] = Wphi2\n",
    "\n",
    "# Fine sediment porosity for each layer\n",
    "Fphi0 = phif * np.exp(-15000.5/z0f)\n",
    "Fphi1 = phif * np.exp(-12500./z0f)\n",
    "Fphi2 = phif * np.exp(-5000./z0f)\n",
    "Fphi[:,0] = Fphi0\n",
    "Fphi[:,1] = Fphi1\n",
    "Fphi[:,2] = Fphi2\n",
    "\n",
    "# Coarse sediment porosity for each layer\n",
    "Sphi0 = phis * np.exp(-15000.5/z0s)\n",
    "Sphi1 = phis * np.exp(-12500./z0s)\n",
    "Sphi2 = phis * np.exp(-5000./z0s)\n",
    "Sphi[:,0] = Sphi0\n",
    "Sphi[:,1] = Sphi1\n",
    "Sphi[:,2] = Sphi2"
   ]
  },
  {
   "cell_type": "markdown",
   "id": "1a9bd971",
   "metadata": {},
   "source": [
    "We now save the stratigraphic grid (with all defined `gospl` parameters):"
   ]
  },
  {
   "cell_type": "code",
   "execution_count": 21,
   "id": "72517539",
   "metadata": {},
   "outputs": [],
   "source": [
    "# Save the stratigraphic mesh as a Numpy file...\n",
    "np.savez_compressed('gospl_data/sedlay25km', strataH=H, strataF=Fperc, strataW=Wperc, strataZ=Z, \n",
    "                    phiF=Fphi, phiS=Sphi, phiW=Wphi)"
   ]
  },
  {
   "cell_type": "markdown",
   "id": "9d33568a",
   "metadata": {},
   "source": [
    "### Spatially variable layer composition\n",
    "\n",
    "\n",
    "```{note}\n",
    "To build a spatially variable layer composition one could for example extract specific subsurface shapefiles and define the layers accordingly.\n",
    "```\n",
    "\n",
    "Here we will define a surface layer with one side of the Mississippi drainage basin corresponding to one lithology and the other to a second one."
   ]
  },
  {
   "cell_type": "code",
   "execution_count": 22,
   "id": "c9b2849e",
   "metadata": {},
   "outputs": [],
   "source": [
    "def xyz2lonlat(coords, radius=6378137.0):\n",
    "    \"\"\"\n",
    "    Convert x,y,z representation of cartesian points of the\n",
    "    spherical triangulation to lat/lon.\n",
    "    \"\"\"\n",
    "\n",
    "    gLonLat = np.zeros((len(coords), 2))\n",
    "\n",
    "    gLonLat[:, 1] = np.arcsin(coords[:, 2] / radius)\n",
    "    gLonLat[:, 0] = np.arctan2(coords[:, 1], coords[:, 0])\n",
    "    gLonLat[:, 1] = np.mod(np.degrees(gLonLat[:, 1]) + 90, 180.0) -90.\n",
    "    gLonLat[:, 0] = np.mod(np.degrees(gLonLat[:, 0]) + 180.0, 360.0) -180.\n",
    "\n",
    "    return gLonLat\n",
    "\n",
    "# Loading gospl mesh\n",
    "loadMesh = np.load('gospl_data/mesh25km.npz')\n",
    "gCoords = loadMesh[\"v\"]\n",
    "gpoints = len(gCoords)\n",
    "gZ = loadMesh[\"z\"]\n",
    "gCells = loadMesh[\"c\"]\n",
    "\n",
    "# Convert to lon/lat coordinates\n",
    "gLonLat = xyz2lonlat(gCoords)"
   ]
  },
  {
   "cell_type": "markdown",
   "id": "3c27353c",
   "metadata": {},
   "source": [
    "We now get the points East of longitude -95:"
   ]
  },
  {
   "cell_type": "code",
   "execution_count": 24,
   "id": "35fd2279",
   "metadata": {},
   "outputs": [],
   "source": [
    "idSed1 = np.where(gLonLat[:,0]>-95)[0]"
   ]
  },
  {
   "cell_type": "markdown",
   "id": "99c3e04e",
   "metadata": {},
   "source": [
    "As for the previous example, we now need to specify the characteristics of each layer."
   ]
  },
  {
   "cell_type": "code",
   "execution_count": 25,
   "id": "70b0007c",
   "metadata": {},
   "outputs": [],
   "source": [
    "# Define layers variables\n",
    "H = np.zeros((len(gZ),3)) # thickness\n",
    "Z = H.copy()              # elevation\n",
    "Fperc = H.copy()          # fine fraction\n",
    "Wperc = H.copy()          # weathered fraction\n",
    "Fphi = H.copy()           # fine porosity\n",
    "Sphi = H.copy()           # coarse porosity\n",
    "Wphi = H.copy()           # weathered porosity\n",
    "\n",
    "H[:,0] = 1.0              # 1 m thick\n",
    "H[:,1] = 1.0              # 1 m thick\n",
    "H[:,2] = 10.0e3           # 10 km thick"
   ]
  },
  {
   "cell_type": "markdown",
   "id": "c2bf3c4e",
   "metadata": {},
   "source": [
    "We now define the proportion of each sediment present in the sedimentary layers:"
   ]
  },
  {
   "cell_type": "code",
   "execution_count": 26,
   "id": "be1f8c0c",
   "metadata": {},
   "outputs": [],
   "source": [
    "# We set the points East of longitude -95 with a specific lithology\n",
    "Fperc[idSed1,0] = 1.0     # 100% of fines\n",
    "Fperc[idSed1,1] = 1.0     # 100% of fines\n",
    "Fperc[idSed1,2] = 1.0     # 100% of fines\n",
    "\n",
    "# We do not consider any weathered sediments in the stratigraphic layers\n",
    "Wperc[:,0] = 0.           # 0% of weathered\n",
    "Wperc[:,1] = 0.           # 0% of weathered\n",
    "Wperc[:,2] = 0.           # 0% of weathered"
   ]
  },
  {
   "cell_type": "markdown",
   "id": "17452caf",
   "metadata": {},
   "source": [
    "Here again, we estimate the porosities assuming that compaction is dependent on deposition rate and sediment surface porosity following the formulation proposed `gospl`:"
   ]
  },
  {
   "cell_type": "code",
   "execution_count": 27,
   "id": "6c3dcf70",
   "metadata": {},
   "outputs": [],
   "source": [
    "Z[:,0] = gZ - 10001.5     # elevation at the centre of layer 0\n",
    "Z[:,1] = gZ - 10000.5     # elevation at the centre of layer 1\n",
    "Z[:,2] = gZ - 5000.0      # elevation at the centre of layer 2 \n",
    "\n",
    "phis = 0.49               # Coarse sediment surface porosity\n",
    "phif = 0.49               # Fine sediment surface porosity\n",
    "phiw = 0.65               # Weathered sediment surface porosity\n",
    "\n",
    "z0s = 3700.0              # e-folding coarse sediment thickness for porosity reduction 3700 m\n",
    "z0f = 3700.0              # e-folding fine sediment thickness for porosity reduction 1960 m\n",
    "z0w = 1600.0              # e-folding weathered sediment thickness for porosity reduction 1960 m\n",
    "\n",
    "\n",
    "# Compute porosity based on above equation\n",
    "Wphi0 = phiw * np.exp(-10001.5/z0w)\n",
    "Wphi1 = phiw * np.exp(-10000.5/z0w)\n",
    "Wphi2 = phiw * np.exp(-5000./z0w)\n",
    "Wphi[:,0] = Wphi0\n",
    "Wphi[:,1] = Wphi1\n",
    "Wphi[:,2] = Wphi2\n",
    "\n",
    "Fphi0 = phif * np.exp(-10001.5/z0f)\n",
    "Fphi1 = phif * np.exp(-10000.5/z0f)\n",
    "Fphi2 = phif * np.exp(-5000./z0f)\n",
    "Fphi[:,0] = Fphi0\n",
    "Fphi[:,1] = Fphi1\n",
    "Fphi[:,2] = Fphi2\n",
    "\n",
    "Sphi0 = phis * np.exp(-10001.5/z0s)\n",
    "Sphi1 = phis * np.exp(-10000.5/z0s)\n",
    "Sphi2 = phis * np.exp(-5000./z0s)\n",
    "Sphi[:,0] = Sphi0\n",
    "Sphi[:,1] = Sphi1\n",
    "Sphi[:,2] = Sphi2"
   ]
  },
  {
   "cell_type": "markdown",
   "id": "02aeb403",
   "metadata": {},
   "source": [
    "We now save the stratigraphic grid"
   ]
  },
  {
   "cell_type": "code",
   "execution_count": 28,
   "id": "2dbbe241",
   "metadata": {},
   "outputs": [],
   "source": [
    "# Save the stratigraphic mesh as a Numpy file...\n",
    "np.savez_compressed('gospl_data/surflay25km', strataH=H, strataF=Fperc, strataW=Wperc, strataZ=Z, \n",
    "                    phiF=Fphi, phiS=Sphi, phiW=Wphi)"
   ]
  },
  {
   "cell_type": "markdown",
   "id": "0c804e64",
   "metadata": {},
   "source": [
    "Let's have a look at the surface sedimentary layer:  "
   ]
  },
  {
   "cell_type": "code",
   "execution_count": 45,
   "id": "549a1e04",
   "metadata": {},
   "outputs": [],
   "source": [
    "vtk_file = 'gospl_data/surflay25km.vtk'\n",
    "\n",
    "gCoords = loadMesh[\"v\"]\n",
    "gpoints = len(gCoords)\n",
    "gZ = loadMesh[\"z\"]\n",
    "gCells = loadMesh[\"c\"]\n",
    "\n",
    "vis_mesh = meshio.Mesh(gCoords, {\"triangle\": gCells},\n",
    "                       point_data={\"elev\": gZ,\n",
    "                                  \"propSed\":Fperc[:,2] ,\n",
    "                                  })\n",
    "meshio.write(vtk_file, vis_mesh)"
   ]
  },
  {
   "cell_type": "code",
   "execution_count": 46,
   "id": "7f94d40c",
   "metadata": {},
   "outputs": [
    {
     "data": {
      "application/vnd.jupyter.widget-view+json": {
       "model_id": "04da9f49514148c8ba1118ec4026b748",
       "version_major": 2,
       "version_minor": 0
      },
      "text/plain": [
       "Viewer(geometries=[{'vtkClass': 'vtkPolyData', 'points': {'vtkClass': 'vtkPoints', 'name': '_points', 'numberO…"
      ]
     },
     "metadata": {},
     "output_type": "display_data"
    },
    {
     "data": {
      "application/vnd.jupyter.widget-view+json": {
       "model_id": "04da9f49514148c8ba1118ec4026b748",
       "version_major": 2,
       "version_minor": 0
      },
      "text/plain": [
       "Viewer(geometries=[{'vtkClass': 'vtkPolyData', 'points': {'vtkClass': 'vtkPoints', 'name': '_points', 'numberO…"
      ]
     },
     "metadata": {},
     "output_type": "display_data"
    }
   ],
   "source": [
    "mesh = pv.read(vtk_file) \n",
    "elev = mesh.get_array(name='elev')\n",
    "\n",
    "earthRadius = 6.371e6\n",
    "scale = 20.\n",
    "factor = 1.+ (elev/earthRadius)*scale\n",
    "\n",
    "mesh.points[:, 0] *= factor\n",
    "mesh.points[:, 1] *= factor\n",
    "mesh.points[:, 2] *= factor\n",
    "\n",
    "contour = mesh.contour([0])\n",
    "\n",
    "plotter = pv.PlotterITK()\n",
    "plotter.add_mesh(mesh, scalars=\"propSed\")\n",
    "plotter.add_mesh(contour, color=\"black\", opacity=1.)\n",
    "\n",
    "plotter.show()"
   ]
  },
  {
   "cell_type": "code",
   "execution_count": null,
   "id": "a0a109b6",
   "metadata": {},
   "outputs": [],
   "source": []
  }
 ],
 "metadata": {
  "celltoolbar": "Tags",
  "kernelspec": {
   "display_name": "Python 3",
   "language": "python",
   "name": "python3"
  },
  "language_info": {
   "codemirror_mode": {
    "name": "ipython",
    "version": 3
   },
   "file_extension": ".py",
   "mimetype": "text/x-python",
   "name": "python",
   "nbconvert_exporter": "python",
   "pygments_lexer": "ipython3",
   "version": "3.8.8"
  },
  "widgets": {
   "application/vnd.jupyter.widget-state+json": {
    "state": {},
    "version_major": 2,
    "version_minor": 0
   }
  }
 },
 "nbformat": 4,
 "nbformat_minor": 5
}
