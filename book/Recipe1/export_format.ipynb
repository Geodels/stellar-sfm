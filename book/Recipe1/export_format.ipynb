{
 "cells": [
  {
   "cell_type": "markdown",
   "id": "controlled-reward",
   "metadata": {},
   "source": [
    "# Outputs export\n",
    "\n",
    "\n",
    "Several utilities are available for exporting model outputs in useful formats. \n",
    "\n",
    "We will go through the main ones."
   ]
  },
  {
   "cell_type": "code",
   "execution_count": null,
   "id": "digital-backing",
   "metadata": {},
   "outputs": [],
   "source": [
    "import os\n",
    "from script import readOutput as rout\n",
    "\n",
    "import matplotlib\n",
    "import pyvista as pv\n",
    "import matplotlib.pyplot as plt\n",
    "\n",
    "label_size = 7\n",
    "matplotlib.rcParams['xtick.labelsize'] = label_size\n",
    "matplotlib.rcParams['ytick.labelsize'] = label_size\n",
    "matplotlib.rc('font', size=6)\n",
    "\n",
    "%matplotlib inline\n",
    "%config InlineBackend.figure_format = 'svg'"
   ]
  },
  {
   "cell_type": "markdown",
   "id": "insured-worst",
   "metadata": {},
   "source": [
    "We first define a folder where exported files will be stored:"
   ]
  },
  {
   "cell_type": "code",
   "execution_count": null,
   "id": "potential-vision",
   "metadata": {},
   "outputs": [],
   "source": [
    "out_path = 'export'\n",
    "if not os.path.exists(out_path):\n",
    "    os.makedirs(out_path)"
   ]
  },
  {
   "cell_type": "markdown",
   "id": "wicked-foster",
   "metadata": {},
   "source": [
    "## Netcdf outputs\n",
    "\n",
    "We start with the `netcdf` outputs as it is the most common one used in our field.\n",
    "\n",
    "### Building netcdf file\n",
    "\n",
    "`Netcdf` exports are done by using the `readOutput.py` script presented in the previous notebook. Here we export all the time steps at once by looping through the number of outputs (5 in this case).\n",
    "\n",
    ":::{admonition} Arguments for `readOutput.py`\n",
    ":class: note, dropdown\n",
    "\n",
    "The `readOutput.py` script main function requires several arguments:\n",
    "\n",
    "+ `path`: the path to the input file\n",
    "+ `filename`: the name of the input file\n",
    "+ `step`: the step you wish to output (here set to 5 corresponding to the last output based on the input parameters: start time 0 year, end time 50 thousand years with an output every 10 thousand years)\n",
    "+ `nbstep`: the number of time steps to plot (useful if one want to output a `netdcf` file containing all time steps (done in the following section).\n",
    "+ `uplift_forcing`: set to False as we are not considering any tectonic forcing\n",
    "\n",
    "\n",
    ":::\n",
    "\n",
    "Then the `buildLonLatMesh` function is used to interpolate (using a `kd-tree` approach) the `gospl` variables on a regular mesh. It also provides a way to limit the created `netcdf` file by defining a `bounding box`:"
   ]
  },
  {
   "cell_type": "code",
   "execution_count": null,
   "id": "impaired-reconstruction",
   "metadata": {},
   "outputs": [],
   "source": [
    "uplift_forcing = False\n",
    "\n",
    "# Specifying the grid resolution in degrees\n",
    "reso = 0.1\n",
    "\n",
    "# Total number of outputs\n",
    "nbstep = 5\n",
    "\n",
    "# Bounding box\n",
    "bb = [-134,20,-46,80]\n",
    "\n",
    "# Looping through the output time steps\n",
    "for k in range(nbstep+1):\n",
    "    if k == 0:\n",
    "        # Calling the initialisation function for our class \n",
    "        ncgrid = rout.readOutput(path='./', filename='input.yml', \n",
    "                                 step=k, nbstep=nbstep+1, \n",
    "                                 uplift=uplift_forcing)\n",
    "    else:\n",
    "        # Update the variables after the first time steps\n",
    "        ncgrid.update(step=k, uplift=uplift_forcing)\n",
    "    \n",
    "    # Build the regular grid defining the bounding box\n",
    "    ncgrid.buildLonLatMesh(res=reso, nghb=3, box=bb)"
   ]
  },
  {
   "cell_type": "markdown",
   "id": "surprised-thomas",
   "metadata": {},
   "source": [
    "Exporting the `netcdf` file on the desired bounding box:"
   ]
  },
  {
   "cell_type": "code",
   "execution_count": null,
   "id": "partial-score",
   "metadata": {},
   "outputs": [],
   "source": [
    "ncout = os.path.join(out_path, \"GoMresult.nc\")\n",
    "ncgrid.exportNetCDF(ncfile = ncout)"
   ]
  },
  {
   "cell_type": "markdown",
   "id": "exceptional-turning",
   "metadata": {},
   "source": [
    "### Visualisation with `ipygany`\n",
    "\n",
    "Visualise the result in Jupyter environment with `ipygany`. This is done using by opening the `netcdf` file first:"
   ]
  },
  {
   "cell_type": "code",
   "execution_count": null,
   "id": "psychological-measure",
   "metadata": {},
   "outputs": [],
   "source": [
    "import numpy as np\n",
    "import xarray as xr\n",
    "\n",
    "from ipygany import PolyMesh, Scene, IsoColor, WarpByScalar, ColorBar, colormaps\n",
    "from ipywidgets import VBox, FloatSlider, FileUpload, Dropdown, jslink\n",
    "\n",
    "ds = xr.open_dataset(ncout, decode_times=False)\n",
    "ds"
   ]
  },
  {
   "cell_type": "markdown",
   "id": "proved-korean",
   "metadata": {},
   "source": [
    "We then select a specific time step and variable using `xarray` functions:"
   ]
  },
  {
   "cell_type": "code",
   "execution_count": null,
   "id": "federal-recorder",
   "metadata": {},
   "outputs": [],
   "source": [
    "# Selecting last time step\n",
    "ds_z = ds.isel(time=[-1])\n",
    "\n",
    "# Dropping all variables expect the elevation\n",
    "ds_z = ds_z.drop(['time','erodep', 'precipitation', 'drainageArea', 'basinID'])\n",
    "ds_z = ds_z.squeeze(\"time\")\n",
    "ds_z"
   ]
  },
  {
   "cell_type": "markdown",
   "id": "crucial-marker",
   "metadata": {},
   "source": [
    ":::{note}\n",
    "\n",
    "We now create `pyvista` structured mesh (our `netcdf` is structured!)\n",
    "\n",
    ":::"
   ]
  },
  {
   "cell_type": "code",
   "execution_count": null,
   "id": "angry-andrews",
   "metadata": {},
   "outputs": [],
   "source": [
    "xx, yy, zz = np.meshgrid(np.radians(ds_z['longitude']), \n",
    "                         np.radians(ds_z['latitude']), \n",
    "                         [0])\n",
    "\n",
    "# Transform to spherical coordinates\n",
    "radius = 6371.0e6\n",
    "x = radius * np.cos(yy) * np.cos(xx)\n",
    "y = radius * np.cos(yy) * np.sin(xx)\n",
    "z = radius * np.sin(yy)\n",
    "\n",
    "grid = pv.StructuredGrid(x, y, z)\n",
    "\n",
    "# Add data to mesh\n",
    "for var in ds_z.data_vars:\n",
    "    grid[var] = np.array(ds_z[var]).ravel(order='F')"
   ]
  },
  {
   "cell_type": "markdown",
   "id": "renewable-thanks",
   "metadata": {},
   "source": [
    "We can then convert `pyvista` mesh to `ipygany` mesh\n",
    "\n",
    "\n",
    "````{margin}\n",
    "```{seealso}\n",
    "This approach is based on the following [cerege example](https://cerege-cl.github.io/Notebooks-Gallery/notebooks/ipygany_3d_example.html).\n",
    "```\n",
    "````"
   ]
  },
  {
   "cell_type": "code",
   "execution_count": null,
   "id": "silver-singapore",
   "metadata": {},
   "outputs": [],
   "source": [
    "# Turn the PyVista mesh into a PolyMesh\n",
    "mesh = PolyMesh.from_vtk(grid)\n",
    "\n",
    "# Color the mesh\n",
    "colored_mesh = IsoColor(mesh, min=ds_z.elevation.min(), max=ds_z.elevation.max())\n",
    "\n",
    "# setup warping\n",
    "warped_mesh = WarpByScalar(colored_mesh, input='elevation', factor=0)"
   ]
  },
  {
   "cell_type": "code",
   "execution_count": null,
   "id": "frozen-conversation",
   "metadata": {},
   "outputs": [],
   "source": [
    "# Link a slider to the warp value\n",
    "warp_slider = FloatSlider(min=0., max=10., value=5)\n",
    "\n",
    "def on_slider_change(change):\n",
    "    warped_mesh.factor = change['new'] * -10000\n",
    "\n",
    "warp_slider.observe(on_slider_change, 'value')\n",
    "\n",
    "# Create a colorbar widget\n",
    "colorbar = ColorBar(colored_mesh)\n",
    "\n",
    "# Colormap choice widget\n",
    "colormap = Dropdown(\n",
    "    options=colormaps,\n",
    "    description='colormap:'\n",
    ")\n",
    "\n",
    "jslink((colored_mesh, 'colormap'), (colormap, 'index'))\n",
    "\n",
    "VBox((colormap, warp_slider, Scene([warped_mesh])))"
   ]
  },
  {
   "cell_type": "markdown",
   "id": "boring-trademark",
   "metadata": {},
   "source": [
    "## Geotiff output\n",
    "\n",
    "\n",
    "### `xarray` functionality\n",
    "\n",
    "Let first use the `netcdf` file created and open it with the `xarray` library in the jupyter environment:"
   ]
  },
  {
   "cell_type": "code",
   "execution_count": null,
   "id": "composite-limit",
   "metadata": {},
   "outputs": [],
   "source": [
    "import xarray as xr\n",
    "\n",
    "ds = xr.open_dataset(ncout, decode_times=False)\n",
    "ds"
   ]
  },
  {
   "cell_type": "markdown",
   "id": "innocent-filing",
   "metadata": {},
   "source": [
    "By default the mesh is written in lon/lat (projection [epsg:4326](https://spatialreference.org/ref/epsg/wgs-84/) as `gospl` is a global model). \n",
    "\n",
    "Using the `rioxarray` library we have the ability to reproject the dataset in any other type of projection. Let's reproject the dataset in `utm` coordinates:"
   ]
  },
  {
   "cell_type": "code",
   "execution_count": null,
   "id": "perceived-performance",
   "metadata": {},
   "outputs": [],
   "source": [
    "import rioxarray\n",
    "\n",
    "ds = ds.rio.write_crs(4326)\n",
    "print('Default projection:',ds.rio.crs)\n",
    "\n",
    "print('Estimated UTM projection:',ds.rio.estimate_utm_crs())\n",
    "ds_utm = ds.rio.reproject(ds.rio.estimate_utm_crs())\n",
    "\n",
    "ds_utm"
   ]
  },
  {
   "cell_type": "markdown",
   "id": "closing-estonia",
   "metadata": {},
   "source": [
    "Let's now create a `geotiff` file containing the elevation for the last time step using the `rioxarray` functionality:"
   ]
  },
  {
   "cell_type": "code",
   "execution_count": null,
   "id": "joined-memory",
   "metadata": {},
   "outputs": [],
   "source": [
    "elevArray = ds_utm.isel(time=[-1])[\"elevation\"][0,:,:]\n",
    "\n",
    "# Export to geotiff\n",
    "tifout = os.path.join(out_path, \"GoMresult5.tif\")\n",
    "\n",
    "elevArray.rio.to_raster(tifout)"
   ]
  },
  {
   "cell_type": "markdown",
   "id": "successful-calgary",
   "metadata": {},
   "source": [
    "### Advanced functionalities on geotiff"
   ]
  },
  {
   "cell_type": "markdown",
   "id": "clean-drove",
   "metadata": {},
   "source": [
    "We can use the `rasterio` library to visualise the `geotiff` file in our notebook:"
   ]
  },
  {
   "cell_type": "code",
   "execution_count": null,
   "id": "coastal-emission",
   "metadata": {},
   "outputs": [],
   "source": [
    "import rasterio\n",
    "from rasterio.mask import mask\n",
    "from rasterio.plot import show, show_hist\n",
    "\n",
    "data = rasterio.open(tifout)\n",
    "\n",
    "print('Number of band',data.count)\n",
    "print('Image resolution',data.height, data.width)\n",
    "print('CRS',data.crs)"
   ]
  },
  {
   "cell_type": "code",
   "execution_count": null,
   "id": "former-glenn",
   "metadata": {},
   "outputs": [],
   "source": [
    "fig, (axr) = plt.subplots(1,1, figsize=(8,9))\n",
    "show((data, 1), ax=axr, cmap='gist_earth', vmin=-10000, vmax=10000)\n",
    "plt.show()"
   ]
  },
  {
   "cell_type": "markdown",
   "id": "conditional-discharge",
   "metadata": {},
   "source": [
    "What we want to do next is to create a bounding box around the Gulf of Mexico region and clip the raster based on that.\n",
    "\n",
    "We create a bounding box with `Shapely`."
   ]
  },
  {
   "cell_type": "code",
   "execution_count": null,
   "id": "latest-preservation",
   "metadata": {},
   "outputs": [],
   "source": [
    "from shapely.geometry import box\n",
    "\n",
    "# WGS84 coordinates (lon/lat - x/y)\n",
    "minx, miny = -102.5, 18.5\n",
    "maxx, maxy = -82.0, 40.0 \n",
    "bbox = box(minx, miny, maxx, maxy)"
   ]
  },
  {
   "cell_type": "markdown",
   "id": "upset-pioneer",
   "metadata": {},
   "source": [
    "We insert the bbox into a `GeoDataFrame` and re-project into the same coordinate system as the raster data"
   ]
  },
  {
   "cell_type": "code",
   "execution_count": null,
   "id": "banner-paintball",
   "metadata": {},
   "outputs": [],
   "source": [
    "import geopandas as gpd\n",
    "from fiona.crs import from_epsg\n",
    "\n",
    "geo = gpd.GeoDataFrame({'geometry': bbox}, index=[0], crs=from_epsg(4326))\n",
    "geo = geo.to_crs(crs=data.crs.data)"
   ]
  },
  {
   "cell_type": "markdown",
   "id": "particular-april",
   "metadata": {},
   "source": [
    "Next we need to get the coordinates of the geometry in such a format that rasterio wants them. This can be conducted easily with following function"
   ]
  },
  {
   "cell_type": "code",
   "execution_count": null,
   "id": "quarterly-screen",
   "metadata": {},
   "outputs": [],
   "source": [
    "def getFeatures(gdf):\n",
    "    \n",
    "    \"\"\"Function to parse features from GeoDataFrame in such a manner that rasterio wants them\"\"\"\n",
    "    \n",
    "    import json\n",
    "    return [json.loads(gdf.to_json())['features'][0]['geometry']]"
   ]
  },
  {
   "cell_type": "markdown",
   "id": "accurate-spanking",
   "metadata": {},
   "source": [
    "Get the geometry coordinates by using the function."
   ]
  },
  {
   "cell_type": "code",
   "execution_count": null,
   "id": "several-judge",
   "metadata": {},
   "outputs": [],
   "source": [
    "coords = getFeatures(geo)\n",
    "print(coords)"
   ]
  },
  {
   "cell_type": "markdown",
   "id": "internal-margin",
   "metadata": {},
   "source": [
    "Now we are ready to clip the raster with the polygon using the coords variable that we just created. \n",
    "\n",
    ":::{tip}\n",
    "Clipping the raster can be done easily with the `mask` function that we imported in the beginning from `rasterio`, and specifying `clip=True`.\n",
    ":::"
   ]
  },
  {
   "cell_type": "code",
   "execution_count": null,
   "id": "weighted-mouth",
   "metadata": {},
   "outputs": [],
   "source": [
    "out_img, out_transform = mask(data, shapes=coords, crop=True)"
   ]
  },
  {
   "cell_type": "markdown",
   "id": "linear-recruitment",
   "metadata": {},
   "source": [
    "Next, we need to modify the metadata. \n",
    "\n",
    "Let’s start by copying the metadata from the original data file.\n",
    "\n",
    "Then we parse the `EPSG` value from the `CRS` so that we can create a `Proj4` string using `PyCRS` library (to ensure that the projection information is saved correctly)."
   ]
  },
  {
   "cell_type": "code",
   "execution_count": null,
   "id": "controlled-terrorist",
   "metadata": {},
   "outputs": [],
   "source": [
    "import pycrs\n",
    "\n",
    "out_meta = data.meta.copy()\n",
    "print(out_meta)\n",
    "\n",
    "epsg_code = int(data.crs.data['init'][5:])\n",
    "print(epsg_code)\n",
    "\n",
    "\n",
    "out_meta.update({\"driver\": \"GTiff\", \"height\": out_img.shape[1],\n",
    "                 \"width\": out_img.shape[2], \"transform\": out_transform,\n",
    "                 \"crs\": pycrs.parse.from_epsg_code(epsg_code).to_proj4()})"
   ]
  },
  {
   "cell_type": "markdown",
   "id": "underlying-behavior",
   "metadata": {},
   "source": [
    "Finally, we can save the clipped raster to disk with following command."
   ]
  },
  {
   "cell_type": "code",
   "execution_count": null,
   "id": "environmental-pavilion",
   "metadata": {},
   "outputs": [],
   "source": [
    "tifout2 = os.path.join(out_path, \"GoM_clipped.tif\")\n",
    "\n",
    "with rasterio.open(tifout2, \"w\", **out_meta) as dest:\n",
    "    dest.write(out_img)"
   ]
  },
  {
   "cell_type": "markdown",
   "id": "compact-weekend",
   "metadata": {},
   "source": [
    "Let’s still check that the result is correct by plotting our new clipped raster."
   ]
  },
  {
   "cell_type": "code",
   "execution_count": null,
   "id": "laughing-excerpt",
   "metadata": {},
   "outputs": [],
   "source": [
    "clipped = rasterio.open(tifout2)\n",
    "\n",
    "fig, (axr) = plt.subplots(1,1, figsize=(5,5))\n",
    "show((clipped, 1), ax=axr, cmap='gist_earth', vmin=-1000, vmax=1000)\n",
    "plt.show()"
   ]
  },
  {
   "cell_type": "markdown",
   "id": "latest-yellow",
   "metadata": {},
   "source": [
    "## ZMAP files\n",
    "\n",
    "The `zmapio` library allows to read and write map gridded data using `ZMAP Plus ASCII Grid format`. \n",
    "\n",
    "Here we will use it to write our elevation as a ZMAP grid."
   ]
  },
  {
   "cell_type": "code",
   "execution_count": null,
   "id": "frank-eclipse",
   "metadata": {},
   "outputs": [],
   "source": [
    "from zmapio import ZMAPGrid\n",
    "\n",
    "z_val = elevArray.values[::5,::5].T\n",
    "print('Z-values shape: ', z_val.shape)"
   ]
  },
  {
   "cell_type": "markdown",
   "id": "changed-regression",
   "metadata": {},
   "source": [
    "Define the ZMAP dataset:"
   ]
  },
  {
   "cell_type": "code",
   "execution_count": null,
   "id": "transsexual-section",
   "metadata": {},
   "outputs": [],
   "source": [
    "new_zgrid = ZMAPGrid(z_values=z_val, min_x=ds_utm.x.values.min(), \n",
    "                     max_x=ds_utm.x.values.max(),\n",
    "                     min_y=ds_utm.y.values.min(),  \n",
    "                     max_y=ds_utm.y.values.max())"
   ]
  },
  {
   "cell_type": "markdown",
   "id": "protecting-section",
   "metadata": {},
   "source": [
    "Write the new ZMAP file by customising the formating:"
   ]
  },
  {
   "cell_type": "code",
   "execution_count": null,
   "id": "finite-feelings",
   "metadata": {},
   "outputs": [],
   "source": [
    "zgridout = os.path.join(out_path, \"GoM_zmap.dat\")\n",
    "\n",
    "new_zgrid.comments = ['Model', 'output']\n",
    "new_zgrid.nodes_per_line = 4\n",
    "new_zgrid.field_width = 15\n",
    "new_zgrid.decimal_places = 3\n",
    "new_zgrid.name = 'gospl'\n",
    "new_zgrid.write(zgridout)"
   ]
  },
  {
   "cell_type": "code",
   "execution_count": null,
   "id": "constant-princeton",
   "metadata": {},
   "outputs": [],
   "source": [
    "!head $zgridout"
   ]
  },
  {
   "cell_type": "markdown",
   "id": "tested-interface",
   "metadata": {},
   "source": [
    "Let's visualise the dataset... "
   ]
  },
  {
   "cell_type": "code",
   "execution_count": null,
   "id": "pregnant-malpractice",
   "metadata": {},
   "outputs": [],
   "source": [
    "new_zgrid.plot(cmap='gist_earth', shading='auto')"
   ]
  },
  {
   "cell_type": "code",
   "execution_count": null,
   "id": "accompanied-surrey",
   "metadata": {},
   "outputs": [],
   "source": []
  }
 ],
 "metadata": {
  "celltoolbar": "Tags",
  "kernelspec": {
   "display_name": "Python 3",
   "language": "python",
   "name": "python3"
  },
  "language_info": {
   "codemirror_mode": {
    "name": "ipython",
    "version": 3
   },
   "file_extension": ".py",
   "mimetype": "text/x-python",
   "name": "python",
   "nbconvert_exporter": "python",
   "pygments_lexer": "ipython3",
   "version": "3.8.8"
  }
 },
 "nbformat": 4,
 "nbformat_minor": 5
}
